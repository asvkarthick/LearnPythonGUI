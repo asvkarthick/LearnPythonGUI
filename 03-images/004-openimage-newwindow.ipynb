{
 "cells": [
  {
   "cell_type": "code",
   "execution_count": 3,
   "id": "5c87ee7a",
   "metadata": {},
   "outputs": [],
   "source": [
    "from tkinter import *\n",
    "from PIL import ImageTk, Image\n",
    "\n",
    "root = Tk()\n",
    "root.title(\"New window demo\")\n",
    "\n",
    "def openWindow():\n",
    "    global myImage\n",
    "    top = Toplevel()\n",
    "    top.title(\"New window\")\n",
    "    myImage = ImageTk.PhotoImage(Image.open(\"data/Lenna.png\"))\n",
    "    myLabel = Label(top, image=myImage).pack()\n",
    "    button2 = Button(top, text=\"Close window\", command = top.destroy).pack()\n",
    "    \n",
    "button = Button(root, text=\"Open new window\", command = openWindow).pack()\n",
    "\n",
    "root.mainloop()"
   ]
  }
 ],
 "metadata": {
  "kernelspec": {
   "display_name": "Python 3 (ipykernel)",
   "language": "python",
   "name": "python3"
  },
  "language_info": {
   "codemirror_mode": {
    "name": "ipython",
    "version": 3
   },
   "file_extension": ".py",
   "mimetype": "text/x-python",
   "name": "python",
   "nbconvert_exporter": "python",
   "pygments_lexer": "ipython3",
   "version": "3.10.9"
  }
 },
 "nbformat": 4,
 "nbformat_minor": 5
}
