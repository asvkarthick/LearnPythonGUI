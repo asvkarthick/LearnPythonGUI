{
 "cells": [
  {
   "cell_type": "code",
   "execution_count": 8,
   "id": "f07769c9",
   "metadata": {},
   "outputs": [],
   "source": [
    "from tkinter import *\n",
    "from PIL import ImageTk, Image\n",
    "\n",
    "root = Tk()\n",
    "root.title(\"Display Image\")\n",
    "root.iconbitmap(\"data/icon.png\")\n",
    "\n",
    "myImage1 = ImageTk.PhotoImage(Image.open(\"data/Lenna.png\"))\n",
    "myImage2 = ImageTk.PhotoImage(Image.open(\"data/image2.png\"))\n",
    "myImage3 = ImageTk.PhotoImage(Image.open(\"data/image3.png\"))\n",
    "\n",
    "imageList = [myImage1, myImage2, myImage3]\n",
    "\n",
    "myLabel = Label(image=myImage1)\n",
    "myLabel.grid(row = 0, column = 0, columnspan = 3)\n",
    "currentImageNo = 0\n",
    "\n",
    "def forward(imageNumber):\n",
    "    global myLabel\n",
    "    global buttonForward\n",
    "    global buttonBackward\n",
    "    global imageList\n",
    "    \n",
    "    myLabel.grid_forget()\n",
    "    myLabel = Label(image = imageList[imageNumber])\n",
    "    buttonForward = Button(root, text = \">>\", command=lambda: forward(imageNumber + 1))\n",
    "    buttonBackward = Button(root, text = \"<<\", command=lambda: forward(imageNumber - 1))\n",
    "    myLabel.grid(row = 0, column = 0, columnspan = 3)\n",
    "    buttonForward.grid(row = 1, column = 2)\n",
    "    buttonBackward.grid(row = 1, column = 0)\n",
    "    \n",
    "    \n",
    "def backward(imageNumber):\n",
    "    global myLabel\n",
    "    global buttonForward\n",
    "    global buttonBackward\n",
    "    global imageList\n",
    "    \n",
    "    myLabel.grid_forget()\n",
    "    myLabel = Label(image = imageList[imageNumber])\n",
    "    buttonForward = Button(root, text = \">>\", command=lambda: forward(imageNumber + 1))\n",
    "    buttonBackward = Button(root, text = \"<<\", command=lambda: forward(imageNumber - 1))\n",
    "    myLabel.grid(row = 0, column = 0, columnspan = 3)\n",
    "    buttonForward.grid(row = 1, column = 2)\n",
    "    buttonBackward.grid(row = 1, column = 0)\n",
    "\n",
    "buttonForward = Button(root, text = \">>\", command=lambda: forward(currentImageNo + 1))\n",
    "buttonBackward = Button(root, text = \"<<\", command=lambda: backward(currentImageNo - 1))\n",
    "buttonExit = Button(root, text=\"Exit\", command=root.quit)\n",
    "\n",
    "buttonForward.grid(row = 1, column = 2)\n",
    "buttonExit.grid(row = 1, column = 1)\n",
    "buttonBackward.grid(row = 1, column = 0)\n",
    "\n",
    "root.mainloop()"
   ]
  }
 ],
 "metadata": {
  "kernelspec": {
   "display_name": "Python 3 (ipykernel)",
   "language": "python",
   "name": "python3"
  },
  "language_info": {
   "codemirror_mode": {
    "name": "ipython",
    "version": 3
   },
   "file_extension": ".py",
   "mimetype": "text/x-python",
   "name": "python",
   "nbconvert_exporter": "python",
   "pygments_lexer": "ipython3",
   "version": "3.10.9"
  }
 },
 "nbformat": 4,
 "nbformat_minor": 5
}
