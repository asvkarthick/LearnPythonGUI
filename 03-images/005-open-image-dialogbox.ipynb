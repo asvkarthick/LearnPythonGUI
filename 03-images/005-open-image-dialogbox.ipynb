{
 "cells": [
  {
   "cell_type": "code",
   "execution_count": 2,
   "id": "b8e61245",
   "metadata": {},
   "outputs": [],
   "source": [
    "from tkinter import *\n",
    "from tkinter import filedialog\n",
    "from PIL import ImageTk, Image\n",
    "\n",
    "root = Tk()\n",
    "root.title(\"File dialog\")\n",
    "\n",
    "def openDialog():\n",
    "    global image\n",
    "    root.filename = filedialog.askopenfilename(initialdir=\"./data/\", title=\"Select a file\")\n",
    "    myLabel = Label(root, text=root.filename).pack()\n",
    "    image = ImageTk.PhotoImage(Image.open(root.filename))\n",
    "    labelImage = Label(image=image).pack()\n",
    "\n",
    "button = Button(root, text = \"Open Dialog box\", command = openDialog).pack()\n",
    "\n",
    "root.mainloop()"
   ]
  }
 ],
 "metadata": {
  "kernelspec": {
   "display_name": "Python 3 (ipykernel)",
   "language": "python",
   "name": "python3"
  },
  "language_info": {
   "codemirror_mode": {
    "name": "ipython",
    "version": 3
   },
   "file_extension": ".py",
   "mimetype": "text/x-python",
   "name": "python",
   "nbconvert_exporter": "python",
   "pygments_lexer": "ipython3",
   "version": "3.10.9"
  }
 },
 "nbformat": 4,
 "nbformat_minor": 5
}
