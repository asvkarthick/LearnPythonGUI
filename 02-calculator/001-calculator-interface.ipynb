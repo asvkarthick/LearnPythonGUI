{
 "cells": [
  {
   "cell_type": "code",
   "execution_count": 11,
   "id": "8eb0f062",
   "metadata": {},
   "outputs": [],
   "source": [
    "from tkinter import *\n",
    "\n",
    "root = Tk()\n",
    "root.title(\"Calculator\")\n",
    "\n",
    "entry = Entry(root, width = 35, borderwidth = 5)\n",
    "entry.grid(row = 0, column = 0, columnspan = 3, padx = 10, pady = 10)\n",
    "\n",
    "def buttonClick():\n",
    "    return\n",
    "           \n",
    "button1 = Button(root, text = \"1\", padx = 40, pady = 20, command=buttonAdd)\n",
    "button2 = Button(root, text = \"2\", padx = 40, pady = 20, command=buttonAdd)\n",
    "button3 = Button(root, text = \"3\", padx = 40, pady = 20, command=buttonAdd)\n",
    "button4 = Button(root, text = \"4\", padx = 40, pady = 20, command=buttonAdd)\n",
    "button5 = Button(root, text = \"5\", padx = 40, pady = 20, command=buttonAdd)\n",
    "button6 = Button(root, text = \"6\", padx = 40, pady = 20, command=buttonAdd)\n",
    "button7 = Button(root, text = \"7\", padx = 40, pady = 20, command=buttonAdd)\n",
    "button8 = Button(root, text = \"8\", padx = 40, pady = 20, command=buttonAdd)\n",
    "button9 = Button(root, text = \"9\", padx = 40, pady = 20, command=buttonAdd)\n",
    "button0 = Button(root, text = \"0\", padx = 40, pady = 20, command=buttonAdd)\n",
    "buttonPlus = Button(root, text = \"+\", padx = 40, pady = 20, command=buttonAdd)\n",
    "buttonEqual = Button(root, text = \"=\", padx = 80, pady = 20, command=buttonAdd)\n",
    "buttonClear = Button(root, text = \"C\", padx = 80, pady = 20, command=buttonAdd)\n",
    "\n",
    "button1.grid(row = 3, column = 0)\n",
    "button2.grid(row = 3, column = 1)\n",
    "button3.grid(row = 3, column = 2)\n",
    "\n",
    "button4.grid(row = 2, column = 0)\n",
    "button5.grid(row = 2, column = 1)\n",
    "button6.grid(row = 2, column = 2)\n",
    "\n",
    "button7.grid(row = 1, column = 0)\n",
    "button8.grid(row = 1, column = 1)\n",
    "button9.grid(row = 1, column = 2)\n",
    "\n",
    "button0.grid(row = 4, column = 0)\n",
    "\n",
    "buttonClear.grid(row = 4, column = 1, columnspan = 2)\n",
    "buttonPlus.grid(row = 5, column = 0)\n",
    "buttonEqual.grid(row = 5, column = 1, columnspan = 2)\n",
    "           \n",
    "\n",
    "root.mainloop()"
   ]
  }
 ],
 "metadata": {
  "kernelspec": {
   "display_name": "Python 3 (ipykernel)",
   "language": "python",
   "name": "python3"
  },
  "language_info": {
   "codemirror_mode": {
    "name": "ipython",
    "version": 3
   },
   "file_extension": ".py",
   "mimetype": "text/x-python",
   "name": "python",
   "nbconvert_exporter": "python",
   "pygments_lexer": "ipython3",
   "version": "3.10.9"
  }
 },
 "nbformat": 4,
 "nbformat_minor": 5
}
