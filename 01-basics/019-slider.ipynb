{
 "cells": [
  {
   "cell_type": "code",
   "execution_count": 2,
   "id": "796e621a",
   "metadata": {},
   "outputs": [],
   "source": [
    "from tkinter import *\n",
    "\n",
    "root = Tk()\n",
    "root.title(\"Slider demo\")\n",
    "root.geometry(\"400x400\")\n",
    "\n",
    "vertical = Scale(root, from_=0, to=200)\n",
    "vertical.pack()\n",
    "\n",
    "def slider():\n",
    "    global horizontal\n",
    "    root.geometry(str(horizontal.get()) + \"x400\")\n",
    "\n",
    "horizontal = Scale(root, from_=0, to=200, orient=HORIZONTAL)\n",
    "horizontal.pack()\n",
    "\n",
    "button = Button(root, text=\"Click\", command=slider).pack()\n",
    "\n",
    "root.mainloop()"
   ]
  }
 ],
 "metadata": {
  "kernelspec": {
   "display_name": "Python 3 (ipykernel)",
   "language": "python",
   "name": "python3"
  },
  "language_info": {
   "codemirror_mode": {
    "name": "ipython",
    "version": 3
   },
   "file_extension": ".py",
   "mimetype": "text/x-python",
   "name": "python",
   "nbconvert_exporter": "python",
   "pygments_lexer": "ipython3",
   "version": "3.10.9"
  }
 },
 "nbformat": 4,
 "nbformat_minor": 5
}
