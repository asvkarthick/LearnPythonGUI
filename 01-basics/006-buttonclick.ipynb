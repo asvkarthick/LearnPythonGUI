{
 "cells": [
  {
   "cell_type": "code",
   "execution_count": 3,
   "id": "85ce3348",
   "metadata": {},
   "outputs": [],
   "source": [
    "from tkinter import *\n",
    "\n",
    "root = Tk()\n",
    "\n",
    "def buttonClick():\n",
    "    myLabel = Label(root, text = \"Button clicked\")\n",
    "    myLabel.pack()\n",
    "\n",
    "myButton = Button(root, text = \"Click here\", command = buttonClick)\n",
    "myButton.pack()\n",
    "\n",
    "root.mainloop()"
   ]
  }
 ],
 "metadata": {
  "kernelspec": {
   "display_name": "Python 3 (ipykernel)",
   "language": "python",
   "name": "python3"
  },
  "language_info": {
   "codemirror_mode": {
    "name": "ipython",
    "version": 3
   },
   "file_extension": ".py",
   "mimetype": "text/x-python",
   "name": "python",
   "nbconvert_exporter": "python",
   "pygments_lexer": "ipython3",
   "version": "3.10.9"
  }
 },
 "nbformat": 4,
 "nbformat_minor": 5
}
