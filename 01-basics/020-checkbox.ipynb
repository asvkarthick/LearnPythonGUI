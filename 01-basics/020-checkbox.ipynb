{
 "cells": [
  {
   "cell_type": "code",
   "execution_count": 1,
   "id": "6ecd617e",
   "metadata": {},
   "outputs": [],
   "source": [
    "from tkinter import *\n",
    "\n",
    "root = Tk()\n",
    "root.title(\"Checkbox demo\")\n",
    "root.geometry(\"400x400\")\n",
    "\n",
    "def show():\n",
    "    Label(root, text=var.get()).pack()\n",
    "    \n",
    "var = IntVar()\n",
    "\n",
    "Checkbutton(root, text = \"Check this box\", variable=var).pack()\n",
    "Button(root, text=\"Click\", command=show).pack()\n",
    "\n",
    "root.mainloop()"
   ]
  }
 ],
 "metadata": {
  "kernelspec": {
   "display_name": "Python 3 (ipykernel)",
   "language": "python",
   "name": "python3"
  },
  "language_info": {
   "codemirror_mode": {
    "name": "ipython",
    "version": 3
   },
   "file_extension": ".py",
   "mimetype": "text/x-python",
   "name": "python",
   "nbconvert_exporter": "python",
   "pygments_lexer": "ipython3",
   "version": "3.10.9"
  }
 },
 "nbformat": 4,
 "nbformat_minor": 5
}
