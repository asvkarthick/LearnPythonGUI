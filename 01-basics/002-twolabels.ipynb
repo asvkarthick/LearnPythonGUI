{
 "cells": [
  {
   "cell_type": "code",
   "execution_count": 2,
   "id": "bd5001c8",
   "metadata": {},
   "outputs": [],
   "source": [
    "from tkinter import *\n",
    "\n",
    "root = Tk()\n",
    "\n",
    "myLabel1 = Label(root, text=\"Hello World!\")\n",
    "myLabel2 = Label(root, text=\"My name is Karthick\")\n",
    "\n",
    "myLabel1.grid(row = 0, column = 0)\n",
    "myLabel2.grid(row = 1, column = 0)\n",
    "\n",
    "root.mainloop()"
   ]
  }
 ],
 "metadata": {
  "kernelspec": {
   "display_name": "Python 3 (ipykernel)",
   "language": "python",
   "name": "python3"
  },
  "language_info": {
   "codemirror_mode": {
    "name": "ipython",
    "version": 3
   },
   "file_extension": ".py",
   "mimetype": "text/x-python",
   "name": "python",
   "nbconvert_exporter": "python",
   "pygments_lexer": "ipython3",
   "version": "3.10.9"
  }
 },
 "nbformat": 4,
 "nbformat_minor": 5
}
