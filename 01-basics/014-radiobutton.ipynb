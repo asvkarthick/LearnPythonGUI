{
 "cells": [
  {
   "cell_type": "code",
   "execution_count": 13,
   "id": "45be621b",
   "metadata": {},
   "outputs": [],
   "source": [
    "from tkinter import *\n",
    "\n",
    "root = Tk()\n",
    "root.title(\"Radio button demonstration\")\n",
    "\n",
    "MODES = [\n",
    "    (\"Pepperoni\", \"Pepperoni\"),\n",
    "    (\"Cheese\", \"Cheese\"),\n",
    "    (\"Mushroom\", \"Mushroom\"),\n",
    "    (\"Chicken\", \"Chicken\")\n",
    "]\n",
    "\n",
    "pizza = StringVar()\n",
    "pizza.set(\"Chicken\")\n",
    "\n",
    "def radioButtonClick():\n",
    "    global label\n",
    "    global pizza\n",
    "    label.grid_forget()\n",
    "    label = Label(root, text=pizza.get())\n",
    "    label.pack()\n",
    "\n",
    "for text, mode in MODES:\n",
    "    Radiobutton(root, text=text, variable=pizza, value=mode, command=radioButtonClick).pack()\n",
    "    \n",
    "label = Label(root, text=pizza.get())\n",
    "label.pack()\n",
    "\n",
    "root.mainloop()"
   ]
  }
 ],
 "metadata": {
  "kernelspec": {
   "display_name": "Python 3 (ipykernel)",
   "language": "python",
   "name": "python3"
  },
  "language_info": {
   "codemirror_mode": {
    "name": "ipython",
    "version": 3
   },
   "file_extension": ".py",
   "mimetype": "text/x-python",
   "name": "python",
   "nbconvert_exporter": "python",
   "pygments_lexer": "ipython3",
   "version": "3.10.9"
  }
 },
 "nbformat": 4,
 "nbformat_minor": 5
}
