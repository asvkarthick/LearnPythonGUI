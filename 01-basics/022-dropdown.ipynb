{
 "cells": [
  {
   "cell_type": "code",
   "execution_count": 1,
   "id": "154c760c",
   "metadata": {},
   "outputs": [],
   "source": [
    "from tkinter import *\n",
    "\n",
    "root = Tk()\n",
    "root.title(\"Dropdown demo\")\n",
    "root.geometry(\"400x400\")\n",
    "\n",
    "options = [\n",
    "    \"Monday\",\n",
    "    \"Tuesday\",\n",
    "    \"Wednesday\",\n",
    "    \"Thursday\",\n",
    "    \"Friday\"\n",
    "]\n",
    "\n",
    "clicked = StringVar()\n",
    "clicked.set(options[0])\n",
    "\n",
    "OptionMenu(root, clicked, *options).pack()\n",
    "\n",
    "def show():\n",
    "    Label(root, text=clicked.get()).pack()\n",
    "\n",
    "Button(root, text=\"Show selection\", command = show).pack()\n",
    "\n",
    "root.mainloop()"
   ]
  }
 ],
 "metadata": {
  "kernelspec": {
   "display_name": "Python 3 (ipykernel)",
   "language": "python",
   "name": "python3"
  },
  "language_info": {
   "codemirror_mode": {
    "name": "ipython",
    "version": 3
   },
   "file_extension": ".py",
   "mimetype": "text/x-python",
   "name": "python",
   "nbconvert_exporter": "python",
   "pygments_lexer": "ipython3",
   "version": "3.10.9"
  }
 },
 "nbformat": 4,
 "nbformat_minor": 5
}
