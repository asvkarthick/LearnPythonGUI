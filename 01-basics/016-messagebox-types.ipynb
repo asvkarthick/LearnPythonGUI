{
 "cells": [
  {
   "cell_type": "code",
   "execution_count": 13,
   "id": "2164a6b3",
   "metadata": {},
   "outputs": [
    {
     "name": "stderr",
     "output_type": "stream",
     "text": [
      "2024-04-21 18:26:31.951 python[68825:10148595] Warning: Expected min height of view: (<NSButton: 0x7fd92382bfa0>) to be less than or equal to 30 but got a height of 32.000000. This error will be logged once per view in violation.\n",
      "2024-04-21 18:26:31.952 python[68825:10148595] Warning: Expected min height of view: (<NSButton: 0x7fd92382b810>) to be less than or equal to 30 but got a height of 32.000000. This error will be logged once per view in violation.\n",
      "2024-04-21 18:26:34.384 python[68825:10148595] Warning: Expected min height of view: (<NSButton: 0x7fd8e3796590>) to be less than or equal to 30 but got a height of 32.000000. This error will be logged once per view in violation.\n",
      "2024-04-21 18:26:34.385 python[68825:10148595] Warning: Expected min height of view: (<NSButton: 0x7fd8e37794d0>) to be less than or equal to 30 but got a height of 32.000000. This error will be logged once per view in violation.\n"
     ]
    }
   ],
   "source": [
    "from tkinter import *\n",
    "from tkinter import messagebox\n",
    "\n",
    "root = Tk()\n",
    "root.title(\"Demonstrating messagebox\")\n",
    "\n",
    "def popup(msg):\n",
    "    if msg == \"info\":\n",
    "        messagebox.showinfo(\"This is info!\", \"Hello Info\")\n",
    "    elif msg == \"warning\":\n",
    "        messagebox.showwarning(\"This is warning\", \"Hello Warning\")\n",
    "    elif msg == \"error\":\n",
    "        messagebox.showerror(\"This is error\", \"Hello Error\")\n",
    "    elif msg == \"askquestion\":\n",
    "        response = messagebox.askquestion(\"This is question\", \"Hello Ask Question\")\n",
    "        if response == \"yes\":\n",
    "            Label(root, text=\"You clicked Yes\").pack()\n",
    "        else:\n",
    "            Label(root, text=\"You clicked No\").pack()\n",
    "    elif msg == \"askyesno\":\n",
    "        response = messagebox.askyesno(\"This is yes no\", \"Hello Ask yes no\")\n",
    "        if response == 1:\n",
    "            Label(root, text=\"You clicked Yes\").pack()\n",
    "        else:\n",
    "            Label(root, text=\"You clicked No\").pack()\n",
    "    elif msg == \"askokcancel\":\n",
    "        response = messagebox.askokcancel(\"This is ok cancel\", \"Hello Ask ok cancel\")\n",
    "        if response == True:\n",
    "            Label(root, text=\"You clicked Ok\").pack()\n",
    "        else:\n",
    "            Label(root, text=\"You clicked Cancel\").pack()\n",
    "    \n",
    "Button(root, text=\"Info\", command=lambda: popup(\"info\")).pack()\n",
    "Button(root, text=\"Warning\", command=lambda: popup(\"warning\")).pack()\n",
    "Button(root, text=\"Error\", command=lambda: popup(\"error\")).pack()\n",
    "Button(root, text=\"Ask Question\", command=lambda: popup(\"askquestion\")).pack()\n",
    "Button(root, text=\"Ask Yes or No\", command=lambda: popup(\"askyesno\")).pack()\n",
    "Button(root, text=\"Ask Ok or Cancel\", command=lambda: popup(\"askokcancel\")).pack()\n",
    "\n",
    "\n",
    "root.mainloop()"
   ]
  }
 ],
 "metadata": {
  "kernelspec": {
   "display_name": "Python 3 (ipykernel)",
   "language": "python",
   "name": "python3"
  },
  "language_info": {
   "codemirror_mode": {
    "name": "ipython",
    "version": 3
   },
   "file_extension": ".py",
   "mimetype": "text/x-python",
   "name": "python",
   "nbconvert_exporter": "python",
   "pygments_lexer": "ipython3",
   "version": "3.10.9"
  }
 },
 "nbformat": 4,
 "nbformat_minor": 5
}
