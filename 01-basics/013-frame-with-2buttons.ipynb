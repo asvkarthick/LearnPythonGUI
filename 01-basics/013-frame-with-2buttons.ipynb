{
 "cells": [
  {
   "cell_type": "code",
   "execution_count": 1,
   "id": "2c0f73f7",
   "metadata": {},
   "outputs": [],
   "source": [
    "from tkinter import *\n",
    "\n",
    "root = Tk()\n",
    "root.title(\"Learn Frame\")\n",
    "\n",
    "frame = LabelFrame(root, text=\"This is frame\", padx = 5, pady = 5)\n",
    "frame.pack(padx = 10, pady = 10)\n",
    "\n",
    "b1 = Button(frame, text = \"Button 1\")\n",
    "b2 = Button(frame, text = \"Button 2\")\n",
    "b1.grid(row = 0, column = 0)\n",
    "b2.grid(row = 1, column = 1)\n",
    "\n",
    "root.mainloop()"
   ]
  }
 ],
 "metadata": {
  "kernelspec": {
   "display_name": "Python 3 (ipykernel)",
   "language": "python",
   "name": "python3"
  },
  "language_info": {
   "codemirror_mode": {
    "name": "ipython",
    "version": 3
   },
   "file_extension": ".py",
   "mimetype": "text/x-python",
   "name": "python",
   "nbconvert_exporter": "python",
   "pygments_lexer": "ipython3",
   "version": "3.10.9"
  }
 },
 "nbformat": 4,
 "nbformat_minor": 5
}
